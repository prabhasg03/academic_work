{
  "nbformat": 4,
  "nbformat_minor": 0,
  "metadata": {
    "colab": {
      "provenance": [],
      "authorship_tag": "ABX9TyPzQFOSUrAsd0fnGSHujRRQ",
      "include_colab_link": true
    },
    "kernelspec": {
      "name": "python3",
      "display_name": "Python 3"
    },
    "language_info": {
      "name": "python"
    }
  },
  "cells": [
    {
      "cell_type": "markdown",
      "metadata": {
        "id": "view-in-github",
        "colab_type": "text"
      },
      "source": [
        "<a href=\"https://colab.research.google.com/github/prabhasg03/academic_work/blob/Deep-Learning-Lab/Task%2011/Task%2011.ipynb\" target=\"_parent\"><img src=\"https://colab.research.google.com/assets/colab-badge.svg\" alt=\"Open In Colab\"/></a>"
      ]
    },
    {
      "cell_type": "markdown",
      "source": [
        "#TASK 11:\n",
        "Apply One Hot Encoding for categorical sequence data."
      ],
      "metadata": {
        "id": "zz5eytm0UMaf"
      }
    },
    {
      "cell_type": "code",
      "execution_count": 1,
      "metadata": {
        "id": "eBmEVTXHTuRj"
      },
      "outputs": [],
      "source": [
        "#one hot encoding using OneHotEncoder of Scikit-Learn\n",
        "\n",
        "import pandas as pd\n",
        "from sklearn.preprocessing import OneHotEncoder"
      ]
    },
    {
      "cell_type": "code",
      "source": [
        "#Building a dummy employee dataset for example\n",
        "data = {'Employee id': [10, 20, 15, 25, 30],\n",
        " 'Gender': ['M', 'F', 'F', 'M', 'F'],\n",
        " 'Remarks': ['Good', 'Nice', 'Good', 'Great', 'Nice'],\n",
        " }\n",
        "df = pd.DataFrame(data)\n",
        "print(f\"Employee data : \\n{df}\")"
      ],
      "metadata": {
        "colab": {
          "base_uri": "https://localhost:8080/"
        },
        "id": "77JTpT50VGYV",
        "outputId": "41099dbc-e991-4b3d-c2b4-7d4219786e79"
      },
      "execution_count": 2,
      "outputs": [
        {
          "output_type": "stream",
          "name": "stdout",
          "text": [
            "Employee data : \n",
            "   Employee id Gender Remarks\n",
            "0           10      M    Good\n",
            "1           20      F    Nice\n",
            "2           15      F    Good\n",
            "3           25      M   Great\n",
            "4           30      F    Nice\n"
          ]
        }
      ]
    },
    {
      "cell_type": "code",
      "source": [
        "#Extract categorical columns from the dataframe\n",
        "#Here we extract the columns with object datatype as they are the categorical columns\n",
        "categorical_columns = df.select_dtypes(include=['object']).columns.tolist()\n",
        "encoder = OneHotEncoder(sparse_output=False)"
      ],
      "metadata": {
        "id": "8NxHsM3eVZm1"
      },
      "execution_count": 3,
      "outputs": []
    },
    {
      "cell_type": "code",
      "source": [
        "# Apply one-hot encoding to the categorical columns\n",
        "one_hot_encoded = encoder.fit_transform(df[categorical_columns])"
      ],
      "metadata": {
        "id": "69sK2BtJVbcD"
      },
      "execution_count": 4,
      "outputs": []
    },
    {
      "cell_type": "code",
      "source": [
        "#Create a DataFrame with the one-hot encoded columns\n",
        "#We use get_feature_names_out() to get the column names for the encoded data\n",
        "one_hot_df = pd.DataFrame(one_hot_encoded,\n",
        "columns=encoder.get_feature_names_out(categorical_columns))"
      ],
      "metadata": {
        "id": "D4_KW1GYVb4v"
      },
      "execution_count": 5,
      "outputs": []
    },
    {
      "cell_type": "code",
      "source": [
        "# Concatenate the one-hot encoded dataframe with the original dataframe\n",
        "df_encoded = pd.concat([df, one_hot_df], axis=1)"
      ],
      "metadata": {
        "id": "mxXxbTlMVdst"
      },
      "execution_count": 6,
      "outputs": []
    },
    {
      "cell_type": "code",
      "source": [
        "# Drop the original categorical columns\n",
        "df_encoded = df_encoded.drop(categorical_columns, axis=1)\n",
        "print(f\"Encoded Employee data : \\n{df_encoded}\")"
      ],
      "metadata": {
        "colab": {
          "base_uri": "https://localhost:8080/"
        },
        "id": "NOBBo39UVgw3",
        "outputId": "9ffb5281-df80-43d4-8067-fa3c49369a63"
      },
      "execution_count": 7,
      "outputs": [
        {
          "output_type": "stream",
          "name": "stdout",
          "text": [
            "Encoded Employee data : \n",
            "   Employee id  Gender_F  Gender_M  Remarks_Good  Remarks_Great  Remarks_Nice\n",
            "0           10       0.0       1.0           1.0            0.0           0.0\n",
            "1           20       1.0       0.0           0.0            0.0           1.0\n",
            "2           15       1.0       0.0           1.0            0.0           0.0\n",
            "3           25       0.0       1.0           0.0            1.0           0.0\n",
            "4           30       1.0       0.0           0.0            0.0           1.0\n"
          ]
        }
      ]
    }
  ]
}