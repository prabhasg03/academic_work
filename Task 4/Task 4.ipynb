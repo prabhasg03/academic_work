{
  "nbformat": 4,
  "nbformat_minor": 0,
  "metadata": {
    "colab": {
      "provenance": [],
      "authorship_tag": "ABX9TyPVpqstg97RAm/J5trscSQN"
    },
    "kernelspec": {
      "name": "python3",
      "display_name": "Python 3"
    },
    "language_info": {
      "name": "python"
    }
  },
  "cells": [
    {
      "cell_type": "markdown",
      "source": [
        "# TASK 4\n",
        "Design a GRU-based deep learning model for IMDB dataset. Compare the performance of\n",
        "GRU based model with LSTM based model.\n",
        "\n",
        "# Program"
      ],
      "metadata": {
        "id": "T9F6duKwt_zv"
      }
    },
    {
      "cell_type": "code",
      "execution_count": 1,
      "metadata": {
        "id": "Z3sRqCwftx7c"
      },
      "outputs": [],
      "source": [
        "# Importing Libraries\n",
        "import numpy as np\n",
        "from tensorflow.keras.datasets import imdb\n",
        "from tensorflow.keras.preprocessing.sequence import pad_sequences\n",
        "from tensorflow.keras.models import Sequential\n",
        "from tensorflow.keras.layers import Embedding, GRU, LSTM, Dense"
      ]
    },
    {
      "cell_type": "code",
      "source": [
        "# Load IMDb dataset\n",
        "vocab_size = 10000\n",
        "max_length = 200\n",
        "(x_train, y_train),(x_test, y_test) = imdb.load_data(num_words=vocab_size)\n",
        "x_train=pad_sequences(x_train,maxlen=max_length)\n",
        "x_test=pad_sequences(x_test,maxlen=max_length)"
      ],
      "metadata": {
        "colab": {
          "base_uri": "https://localhost:8080/"
        },
        "id": "ksfjpb6puctx",
        "outputId": "aea2e134-44fa-4d5d-c8b0-65044ee92228"
      },
      "execution_count": 2,
      "outputs": [
        {
          "output_type": "stream",
          "name": "stdout",
          "text": [
            "Downloading data from https://storage.googleapis.com/tensorflow/tf-keras-datasets/imdb.npz\n",
            "\u001b[1m17464789/17464789\u001b[0m \u001b[32m━━━━━━━━━━━━━━━━━━━━\u001b[0m\u001b[37m\u001b[0m \u001b[1m0s\u001b[0m 0us/step\n"
          ]
        }
      ]
    },
    {
      "cell_type": "code",
      "source": [
        "# Build GRU based model\n",
        "gru_model = Sequential()\n",
        "gru_model.add(Embedding(vocab_size, output_dim=128, input_length=max_length))\n",
        "gru_model.add(GRU(128))\n",
        "gru_model.add(Dense(1, activation='sigmoid'))\n",
        "gru_model.compile(loss='binary_crossentropy', optimizer='adam', metrics=['accuracy'])"
      ],
      "metadata": {
        "id": "dde1NvIXus5i"
      },
      "execution_count": null,
      "outputs": []
    },
    {
      "cell_type": "code",
      "source": [
        "# Train GRU model\n",
        "gru_model.fit(x_train, y_train, validation_data=(x_test, y_test), epochs=3, batch_size=64)"
      ],
      "metadata": {
        "colab": {
          "base_uri": "https://localhost:8080/"
        },
        "id": "UBL5DUX9u72g",
        "outputId": "a76d62eb-b843-4509-f24a-e6fc8fb39178"
      },
      "execution_count": 4,
      "outputs": [
        {
          "output_type": "stream",
          "name": "stdout",
          "text": [
            "Epoch 1/3\n",
            "\u001b[1m391/391\u001b[0m \u001b[32m━━━━━━━━━━━━━━━━━━━━\u001b[0m\u001b[37m\u001b[0m \u001b[1m282s\u001b[0m 707ms/step - accuracy: 0.7183 - loss: 0.5122 - val_accuracy: 0.8566 - val_loss: 0.3348\n",
            "Epoch 2/3\n",
            "\u001b[1m391/391\u001b[0m \u001b[32m━━━━━━━━━━━━━━━━━━━━\u001b[0m\u001b[37m\u001b[0m \u001b[1m309s\u001b[0m 677ms/step - accuracy: 0.9071 - loss: 0.2426 - val_accuracy: 0.8670 - val_loss: 0.3098\n",
            "Epoch 3/3\n",
            "\u001b[1m391/391\u001b[0m \u001b[32m━━━━━━━━━━━━━━━━━━━━\u001b[0m\u001b[37m\u001b[0m \u001b[1m324s\u001b[0m 681ms/step - accuracy: 0.9433 - loss: 0.1533 - val_accuracy: 0.8784 - val_loss: 0.3352\n"
          ]
        },
        {
          "output_type": "execute_result",
          "data": {
            "text/plain": [
              "<keras.src.callbacks.history.History at 0x78dbf15d70a0>"
            ]
          },
          "metadata": {},
          "execution_count": 4
        }
      ]
    },
    {
      "cell_type": "code",
      "source": [
        "# Build LSTM Model\n",
        "lstm_model = Sequential()\n",
        "lstm_model.add(Embedding(input_dim=vocab_size, output_dim=128, input_length=max_length))\n",
        "lstm_model.add(LSTM(128))\n",
        "lstm_model.add(Dense(1, activation='sigmoid'))\n",
        "lstm_model.compile(loss='binary_crossentropy', optimizer='adam', metrics=['accuracy'])\n",
        "lstm_model.fit(x_train, y_train, validation_data=(x_test, y_test), epochs=3, batch_size=64)"
      ],
      "metadata": {
        "colab": {
          "base_uri": "https://localhost:8080/"
        },
        "id": "SQ6mLc-cvB5i",
        "outputId": "3e839139-c491-4351-b364-861d20b5c132"
      },
      "execution_count": 5,
      "outputs": [
        {
          "output_type": "stream",
          "name": "stdout",
          "text": [
            "Epoch 1/3\n",
            "\u001b[1m391/391\u001b[0m \u001b[32m━━━━━━━━━━━━━━━━━━━━\u001b[0m\u001b[37m\u001b[0m \u001b[1m259s\u001b[0m 653ms/step - accuracy: 0.7164 - loss: 0.5163 - val_accuracy: 0.8538 - val_loss: 0.3365\n",
            "Epoch 2/3\n",
            "\u001b[1m391/391\u001b[0m \u001b[32m━━━━━━━━━━━━━━━━━━━━\u001b[0m\u001b[37m\u001b[0m \u001b[1m281s\u001b[0m 703ms/step - accuracy: 0.9048 - loss: 0.2423 - val_accuracy: 0.8666 - val_loss: 0.3286\n",
            "Epoch 3/3\n",
            "\u001b[1m391/391\u001b[0m \u001b[32m━━━━━━━━━━━━━━━━━━━━\u001b[0m\u001b[37m\u001b[0m \u001b[1m305s\u001b[0m 660ms/step - accuracy: 0.9394 - loss: 0.1677 - val_accuracy: 0.8677 - val_loss: 0.3260\n"
          ]
        },
        {
          "output_type": "execute_result",
          "data": {
            "text/plain": [
              "<keras.src.callbacks.history.History at 0x78dbec450c70>"
            ]
          },
          "metadata": {},
          "execution_count": 5
        }
      ]
    },
    {
      "cell_type": "code",
      "source": [
        "# Evaluate Models\n",
        "gru_score = gru_model.evaluate(x_test, y_test,verbose=0)\n",
        "lstm_score = lstm_model.evaluate(x_test, y_test,verbose=0)"
      ],
      "metadata": {
        "id": "GkrT8MKsvS8x"
      },
      "execution_count": null,
      "outputs": []
    },
    {
      "cell_type": "code",
      "source": [
        "print(\"GRU Model - Accuracy: {:.2f} %\".format(gru_score[1]*100))\n",
        "print(\"LSTM Model - Accuracy: {:.2f} %\".format(lstm_score[1]*100))"
      ],
      "metadata": {
        "colab": {
          "base_uri": "https://localhost:8080/"
        },
        "id": "CblO8ofa4Xpe",
        "outputId": "0e9b8d27-2ae8-4649-9a1a-cbd19391f428"
      },
      "execution_count": 10,
      "outputs": [
        {
          "output_type": "stream",
          "name": "stdout",
          "text": [
            "GRU Model - Accuracy: 87.84 %\n",
            "LSTM Model - Accuracy: 86.77 %\n"
          ]
        }
      ]
    }
  ]
}