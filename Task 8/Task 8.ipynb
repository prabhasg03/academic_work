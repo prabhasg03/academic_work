{
  "cells": [
    {
      "cell_type": "markdown",
      "metadata": {
        "id": "view-in-github",
        "colab_type": "text"
      },
      "source": [
        "<a href=\"https://colab.research.google.com/github/prabhasg03/academic_work/blob/Deep-Learning-Lab/Task%208/Task%208.ipynb\" target=\"_parent\"><img src=\"https://colab.research.google.com/assets/colab-badge.svg\" alt=\"Open In Colab\"/></a>"
      ]
    },
    {
      "cell_type": "markdown",
      "metadata": {
        "id": "92F9Cx_9DyjE"
      },
      "source": [
        "#TASK 8\n",
        "Build a Deep learning model using LSTM layer in Keras for IMDB dataset.\n",
        "#Program:-"
      ]
    },
    {
      "cell_type": "code",
      "execution_count": 1,
      "metadata": {
        "id": "Hu4hnMO8DwXj"
      },
      "outputs": [],
      "source": [
        "import tensorflow as tf\n",
        "from tensorflow.keras.datasets import imdb\n",
        "from tensorflow.keras.preprocessing.sequence import pad_sequences\n",
        "from tensorflow.keras.models import Sequential\n",
        "from tensorflow.keras.layers import Embedding, LSTM, Dense"
      ]
    },
    {
      "cell_type": "code",
      "execution_count": 2,
      "metadata": {
        "id": "Gb2Sp0yiD9-t"
      },
      "outputs": [],
      "source": [
        "max_features=10000\n",
        "max_len=500"
      ]
    },
    {
      "cell_type": "code",
      "execution_count": 3,
      "metadata": {
        "id": "-V93KoO4EAbi"
      },
      "outputs": [],
      "source": [
        "(x_train, y_train), (x_test, y_test) = imdb.load_data(num_words=max_features)"
      ]
    },
    {
      "cell_type": "code",
      "execution_count": 4,
      "metadata": {
        "id": "JfRLn3KFEBlz"
      },
      "outputs": [],
      "source": [
        "x_train = pad_sequences(x_train, maxlen=max_len)\n",
        "x_test = pad_sequences(x_test, maxlen=max_len)\n",
        "model = Sequential([\n",
        "Embedding(max_features,128,input_length=max_len),\n",
        "LSTM(128),\n",
        "Dense(1,activation='sigmoid')\n",
        "])"
      ]
    },
    {
      "cell_type": "code",
      "execution_count": 5,
      "metadata": {
        "id": "MCVUEfICEOOR"
      },
      "outputs": [],
      "source": [
        "# Compile the model\n",
        "model.compile(optimizer='adam',loss='binary_crossentropy',metrics=['accuracy'])"
      ]
    },
    {
      "cell_type": "code",
      "execution_count": 6,
      "metadata": {
        "colab": {
          "base_uri": "https://localhost:8080/"
        },
        "id": "VDqv-0MPEZhT",
        "outputId": "bcf9a334-6c0a-4f9a-d399-0fce185a6efe"
      },
      "outputs": [
        {
          "output_type": "stream",
          "name": "stdout",
          "text": [
            "Epoch 1/10\n",
            "625/625 [==============================] - 244s 388ms/step - loss: 0.5048 - accuracy: 0.7620 - val_loss: 0.8191 - val_accuracy: 0.5062\n",
            "Epoch 2/10\n",
            "625/625 [==============================] - 242s 388ms/step - loss: 0.4851 - accuracy: 0.7624 - val_loss: 0.3659 - val_accuracy: 0.8496\n",
            "Epoch 3/10\n",
            "625/625 [==============================] - 241s 386ms/step - loss: 0.2505 - accuracy: 0.9019 - val_loss: 0.3790 - val_accuracy: 0.8458\n",
            "Epoch 4/10\n",
            "625/625 [==============================] - 243s 388ms/step - loss: 0.1716 - accuracy: 0.9359 - val_loss: 0.3613 - val_accuracy: 0.8624\n",
            "Epoch 5/10\n",
            "625/625 [==============================] - 242s 388ms/step - loss: 0.1155 - accuracy: 0.9578 - val_loss: 0.3463 - val_accuracy: 0.8646\n",
            "Epoch 6/10\n",
            "625/625 [==============================] - 242s 388ms/step - loss: 0.0781 - accuracy: 0.9744 - val_loss: 0.3957 - val_accuracy: 0.8760\n",
            "Epoch 7/10\n",
            "625/625 [==============================] - 242s 387ms/step - loss: 0.0551 - accuracy: 0.9823 - val_loss: 0.4853 - val_accuracy: 0.8736\n",
            "Epoch 8/10\n",
            "625/625 [==============================] - 242s 388ms/step - loss: 0.0452 - accuracy: 0.9850 - val_loss: 0.5148 - val_accuracy: 0.8684\n",
            "Epoch 9/10\n",
            "625/625 [==============================] - 243s 388ms/step - loss: 0.0325 - accuracy: 0.9898 - val_loss: 0.5389 - val_accuracy: 0.8664\n",
            "Epoch 10/10\n",
            "625/625 [==============================] - 243s 388ms/step - loss: 0.0276 - accuracy: 0.9922 - val_loss: 0.5927 - val_accuracy: 0.8636\n",
            "782/782 [==============================] - 125s 160ms/step - loss: 0.6315 - accuracy: 0.8568\n",
            "Test Accuracy:0.86\n"
          ]
        }
      ],
      "source": [
        "model.fit(x_train,y_train,epochs=10,batch_size=32,validation_split=0.2)\n",
        "test_loss,test_acc=model.evaluate(x_test,y_test)\n",
        "print(f'Test Accuracy:{test_acc:.2f}%')"
      ]
    }
  ],
  "metadata": {
    "accelerator": "TPU",
    "colab": {
      "gpuType": "V28",
      "provenance": [],
      "authorship_tag": "ABX9TyOrznmbi2zMlvSSGkwYJHUX",
      "include_colab_link": true
    },
    "kernelspec": {
      "display_name": "Python 3",
      "name": "python3"
    },
    "language_info": {
      "name": "python"
    }
  },
  "nbformat": 4,
  "nbformat_minor": 0
}